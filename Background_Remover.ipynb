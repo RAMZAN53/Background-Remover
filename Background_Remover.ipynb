{
  "nbformat": 4,
  "nbformat_minor": 0,
  "metadata": {
    "colab": {
      "provenance": []
    },
    "kernelspec": {
      "name": "python3",
      "display_name": "Python 3"
    },
    "language_info": {
      "name": "python"
    }
  },
  "cells": [
    {
      "cell_type": "code",
      "source": [
        "!pip install rembg\n",
        "!pip install gradio\n",
        "!pip install onnxruntime"
      ],
      "metadata": {
        "id": "sJAHV8CbRPeZ"
      },
      "execution_count": null,
      "outputs": []
    },
    {
      "cell_type": "code",
      "source": [
        "import gradio as gr\n",
        "from rembg import remove\n",
        "from PIL import Image\n",
        "import numpy as np"
      ],
      "metadata": {
        "id": "MGq4u3wKSSaq"
      },
      "execution_count": 10,
      "outputs": []
    },
    {
      "cell_type": "code",
      "source": [
        "def remove_bg(input_image):\n",
        "    if input_image is None:\n",
        "        return None\n",
        "    input_image = Image.open(input_image).convert(\"RGBA\")  # Ensure it's RGBA\n",
        "    output_image = remove(input_image)  # Remove background\n",
        "    return output_image"
      ],
      "metadata": {
        "id": "6qyhg4JXSgMT"
      },
      "execution_count": 11,
      "outputs": []
    },
    {
      "cell_type": "code",
      "source": [
        "iface = gr.Interface(\n",
        "    fn=remove_bg,\n",
        "    inputs=gr.Image(type=\"filepath\", label=\"Upload an Image\"),\n",
        "    outputs=gr.Image(type=\"pil\", label=\"Background Removed Image\"),\n",
        "    title=\"AI Background Remover\",\n",
        "    description=\"Upload an image, and this tool will remove the background automatically.\",\n",
        ")"
      ],
      "metadata": {
        "id": "D6ME3AbtSjtM"
      },
      "execution_count": 12,
      "outputs": []
    },
    {
      "cell_type": "code",
      "source": [
        "iface.launch()"
      ],
      "metadata": {
        "colab": {
          "base_uri": "https://localhost:8080/",
          "height": 646
        },
        "id": "0RCAoQRlSmY3",
        "outputId": "3d595b6d-2f18-4494-f299-9bc10b04a282"
      },
      "execution_count": 13,
      "outputs": [
        {
          "output_type": "stream",
          "name": "stdout",
          "text": [
            "Running Gradio in a Colab notebook requires sharing enabled. Automatically setting `share=True` (you can turn this off by setting `share=False` in `launch()` explicitly).\n",
            "\n",
            "Colab notebook detected. To show errors in colab notebook, set debug=True in launch()\n",
            "* Running on public URL: https://ffdb01d83020c4ee45.gradio.live\n",
            "\n",
            "This share link expires in 72 hours. For free permanent hosting and GPU upgrades, run `gradio deploy` from the terminal in the working directory to deploy to Hugging Face Spaces (https://huggingface.co/spaces)\n"
          ]
        },
        {
          "output_type": "display_data",
          "data": {
            "text/plain": [
              "<IPython.core.display.HTML object>"
            ],
            "text/html": [
              "<div><iframe src=\"https://ffdb01d83020c4ee45.gradio.live\" width=\"100%\" height=\"500\" allow=\"autoplay; camera; microphone; clipboard-read; clipboard-write;\" frameborder=\"0\" allowfullscreen></iframe></div>"
            ]
          },
          "metadata": {}
        },
        {
          "output_type": "execute_result",
          "data": {
            "text/plain": []
          },
          "metadata": {},
          "execution_count": 13
        }
      ]
    }
  ]
}